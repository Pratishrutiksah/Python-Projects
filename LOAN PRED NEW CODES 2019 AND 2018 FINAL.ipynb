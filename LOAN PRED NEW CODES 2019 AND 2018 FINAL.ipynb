{
 "cells": [
  {
   "cell_type": "code",
   "execution_count": 87,
   "id": "468a2822",
   "metadata": {},
   "outputs": [],
   "source": [
    "#import libraries\n",
    "import pandas as pd\n",
    "import numpy as np\n",
    "import matplotlib.pyplot as plt\n",
    "get_ipython().run_line_magic('matplotlib', 'inline')\n",
    "import seaborn as plt"
   ]
  },
  {
   "cell_type": "code",
   "execution_count": 88,
   "id": "cd8cdd3a",
   "metadata": {},
   "outputs": [
    {
     "name": "stdout",
     "output_type": "stream",
     "text": [
      "Requirement already satisfied: sklearn in c:\\anaconda 3\\lib\\site-packages (0.0)\n",
      "Requirement already satisfied: scikit-learn in c:\\anaconda 3\\lib\\site-packages (from sklearn) (0.24.2)\n",
      "Requirement already satisfied: numpy>=1.13.3 in c:\\anaconda 3\\lib\\site-packages (from scikit-learn->sklearn) (1.20.3)\n",
      "Requirement already satisfied: threadpoolctl>=2.0.0 in c:\\anaconda 3\\lib\\site-packages (from scikit-learn->sklearn) (2.2.0)\n",
      "Requirement already satisfied: scipy>=0.19.1 in c:\\anaconda 3\\lib\\site-packages (from scikit-learn->sklearn) (1.7.1)\n",
      "Requirement already satisfied: joblib>=0.11 in c:\\anaconda 3\\lib\\site-packages (from scikit-learn->sklearn) (1.1.0)\n",
      "Could not fetch URL https://pypi.org/simple/pip/: There was a problem confirming the ssl certificate: HTTPSConnectionPool(host='pypi.org', port=443): Max retries exceeded with url: /simple/pip/ (Caused by SSLError(SSLCertVerificationError(1, '[SSL: CERTIFICATE_VERIFY_FAILED] certificate verify failed: self signed certificate in certificate chain (_ssl.c:1129)'))) - skipping\n"
     ]
    }
   ],
   "source": [
    "get_ipython().system('pip install sklearn')"
   ]
  },
  {
   "cell_type": "code",
   "execution_count": 89,
   "id": "054431c9",
   "metadata": {},
   "outputs": [
    {
     "data": {
      "text/html": [
       "<div>\n",
       "<style scoped>\n",
       "    .dataframe tbody tr th:only-of-type {\n",
       "        vertical-align: middle;\n",
       "    }\n",
       "\n",
       "    .dataframe tbody tr th {\n",
       "        vertical-align: top;\n",
       "    }\n",
       "\n",
       "    .dataframe thead th {\n",
       "        text-align: right;\n",
       "    }\n",
       "</style>\n",
       "<table border=\"1\" class=\"dataframe\">\n",
       "  <thead>\n",
       "    <tr style=\"text-align: right;\">\n",
       "      <th></th>\n",
       "      <th>Column1</th>\n",
       "      <th>Column6</th>\n",
       "      <th>Column8</th>\n",
       "      <th>Column9</th>\n",
       "      <th>Column10</th>\n",
       "      <th>Column11</th>\n",
       "      <th>Column13</th>\n",
       "      <th>Column14</th>\n",
       "      <th>Column18</th>\n",
       "      <th>Column21</th>\n",
       "      <th>Column23</th>\n",
       "      <th>RESULT</th>\n",
       "    </tr>\n",
       "  </thead>\n",
       "  <tbody>\n",
       "    <tr>\n",
       "      <th>0</th>\n",
       "      <td>693</td>\n",
       "      <td>0</td>\n",
       "      <td>P</td>\n",
       "      <td>80</td>\n",
       "      <td>41</td>\n",
       "      <td>132000</td>\n",
       "      <td>3.250</td>\n",
       "      <td>R</td>\n",
       "      <td>SF</td>\n",
       "      <td>P</td>\n",
       "      <td>2</td>\n",
       "      <td>1</td>\n",
       "    </tr>\n",
       "    <tr>\n",
       "      <th>1</th>\n",
       "      <td>812</td>\n",
       "      <td>0</td>\n",
       "      <td>P</td>\n",
       "      <td>14</td>\n",
       "      <td>14</td>\n",
       "      <td>35000</td>\n",
       "      <td>3.750</td>\n",
       "      <td>R</td>\n",
       "      <td>SF</td>\n",
       "      <td>P</td>\n",
       "      <td>2</td>\n",
       "      <td>1</td>\n",
       "    </tr>\n",
       "    <tr>\n",
       "      <th>2</th>\n",
       "      <td>650</td>\n",
       "      <td>0</td>\n",
       "      <td>P</td>\n",
       "      <td>36</td>\n",
       "      <td>39</td>\n",
       "      <td>340000</td>\n",
       "      <td>4.000</td>\n",
       "      <td>R</td>\n",
       "      <td>SF</td>\n",
       "      <td>C</td>\n",
       "      <td>2</td>\n",
       "      <td>1</td>\n",
       "    </tr>\n",
       "    <tr>\n",
       "      <th>3</th>\n",
       "      <td>705</td>\n",
       "      <td>30</td>\n",
       "      <td>P</td>\n",
       "      <td>95</td>\n",
       "      <td>9</td>\n",
       "      <td>279000</td>\n",
       "      <td>3.875</td>\n",
       "      <td>R</td>\n",
       "      <td>PU</td>\n",
       "      <td>P</td>\n",
       "      <td>2</td>\n",
       "      <td>1</td>\n",
       "    </tr>\n",
       "    <tr>\n",
       "      <th>4</th>\n",
       "      <td>766</td>\n",
       "      <td>0</td>\n",
       "      <td>P</td>\n",
       "      <td>80</td>\n",
       "      <td>42</td>\n",
       "      <td>344000</td>\n",
       "      <td>4.125</td>\n",
       "      <td>R</td>\n",
       "      <td>SF</td>\n",
       "      <td>N</td>\n",
       "      <td>1</td>\n",
       "      <td>1</td>\n",
       "    </tr>\n",
       "  </tbody>\n",
       "</table>\n",
       "</div>"
      ],
      "text/plain": [
       "   Column1  Column6 Column8  Column9  Column10  Column11  Column13 Column14  \\\n",
       "0      693        0       P       80        41    132000     3.250        R   \n",
       "1      812        0       P       14        14     35000     3.750        R   \n",
       "2      650        0       P       36        39    340000     4.000        R   \n",
       "3      705       30       P       95         9    279000     3.875        R   \n",
       "4      766        0       P       80        42    344000     4.125        R   \n",
       "\n",
       "  Column18 Column21  Column23  RESULT  \n",
       "0       SF        P         2       1  \n",
       "1       SF        P         2       1  \n",
       "2       SF        C         2       1  \n",
       "3       PU        P         2       1  \n",
       "4       SF        N         1       1  "
      ]
     },
     "execution_count": 89,
     "metadata": {},
     "output_type": "execute_result"
    }
   ],
   "source": [
    "train = pd.read_excel(\"C:\\\\Users\\\\PS\\\\Dropbox\\\\PC\\\\Downloads\\\\2018.xlsx\")\n",
    "train.head()"
   ]
  },
  {
   "cell_type": "code",
   "execution_count": 90,
   "id": "43eb8b3f",
   "metadata": {},
   "outputs": [
    {
     "name": "stdout",
     "output_type": "stream",
     "text": [
      "Column1     0\n",
      "Column6     0\n",
      "Column8     0\n",
      "Column9     0\n",
      "Column10    0\n",
      "Column11    0\n",
      "Column13    0\n",
      "Column14    0\n",
      "Column18    0\n",
      "Column21    0\n",
      "Column23    0\n",
      "RESULT      0\n",
      "dtype: int64\n"
     ]
    }
   ],
   "source": [
    "print(train.isnull().sum())\n"
   ]
  },
  {
   "cell_type": "code",
   "execution_count": 91,
   "id": "a7994b40",
   "metadata": {},
   "outputs": [
    {
     "data": {
      "text/plain": [
       "(19909, 12)"
      ]
     },
     "execution_count": 91,
     "metadata": {},
     "output_type": "execute_result"
    }
   ],
   "source": [
    "train.shape"
   ]
  },
  {
   "cell_type": "code",
   "execution_count": null,
   "id": "df3f4103",
   "metadata": {},
   "outputs": [],
   "source": []
  },
  {
   "cell_type": "code",
   "execution_count": 6,
   "id": "f18e7ae9",
   "metadata": {},
   "outputs": [
    {
     "data": {
      "text/html": [
       "<div>\n",
       "<style scoped>\n",
       "    .dataframe tbody tr th:only-of-type {\n",
       "        vertical-align: middle;\n",
       "    }\n",
       "\n",
       "    .dataframe tbody tr th {\n",
       "        vertical-align: top;\n",
       "    }\n",
       "\n",
       "    .dataframe thead th {\n",
       "        text-align: right;\n",
       "    }\n",
       "</style>\n",
       "<table border=\"1\" class=\"dataframe\">\n",
       "  <thead>\n",
       "    <tr style=\"text-align: right;\">\n",
       "      <th></th>\n",
       "      <th>Column1</th>\n",
       "      <th>Column6</th>\n",
       "      <th>Column8</th>\n",
       "      <th>Column9</th>\n",
       "      <th>Column10</th>\n",
       "      <th>Column11</th>\n",
       "      <th>Column13</th>\n",
       "      <th>Column14</th>\n",
       "      <th>Column18</th>\n",
       "      <th>Column21</th>\n",
       "      <th>Column23</th>\n",
       "      <th>RESULT</th>\n",
       "    </tr>\n",
       "  </thead>\n",
       "  <tbody>\n",
       "    <tr>\n",
       "      <th>0</th>\n",
       "      <td>693</td>\n",
       "      <td>0</td>\n",
       "      <td>P</td>\n",
       "      <td>80</td>\n",
       "      <td>41</td>\n",
       "      <td>132000</td>\n",
       "      <td>3.250</td>\n",
       "      <td>R</td>\n",
       "      <td>SF</td>\n",
       "      <td>P</td>\n",
       "      <td>2</td>\n",
       "      <td>1</td>\n",
       "    </tr>\n",
       "    <tr>\n",
       "      <th>1</th>\n",
       "      <td>812</td>\n",
       "      <td>0</td>\n",
       "      <td>P</td>\n",
       "      <td>14</td>\n",
       "      <td>14</td>\n",
       "      <td>35000</td>\n",
       "      <td>3.750</td>\n",
       "      <td>R</td>\n",
       "      <td>SF</td>\n",
       "      <td>P</td>\n",
       "      <td>2</td>\n",
       "      <td>1</td>\n",
       "    </tr>\n",
       "    <tr>\n",
       "      <th>2</th>\n",
       "      <td>650</td>\n",
       "      <td>0</td>\n",
       "      <td>P</td>\n",
       "      <td>36</td>\n",
       "      <td>39</td>\n",
       "      <td>340000</td>\n",
       "      <td>4.000</td>\n",
       "      <td>R</td>\n",
       "      <td>SF</td>\n",
       "      <td>C</td>\n",
       "      <td>2</td>\n",
       "      <td>1</td>\n",
       "    </tr>\n",
       "    <tr>\n",
       "      <th>3</th>\n",
       "      <td>705</td>\n",
       "      <td>30</td>\n",
       "      <td>P</td>\n",
       "      <td>95</td>\n",
       "      <td>9</td>\n",
       "      <td>279000</td>\n",
       "      <td>3.875</td>\n",
       "      <td>R</td>\n",
       "      <td>PU</td>\n",
       "      <td>P</td>\n",
       "      <td>2</td>\n",
       "      <td>1</td>\n",
       "    </tr>\n",
       "    <tr>\n",
       "      <th>4</th>\n",
       "      <td>766</td>\n",
       "      <td>0</td>\n",
       "      <td>P</td>\n",
       "      <td>80</td>\n",
       "      <td>42</td>\n",
       "      <td>344000</td>\n",
       "      <td>4.125</td>\n",
       "      <td>R</td>\n",
       "      <td>SF</td>\n",
       "      <td>N</td>\n",
       "      <td>1</td>\n",
       "      <td>1</td>\n",
       "    </tr>\n",
       "  </tbody>\n",
       "</table>\n",
       "</div>"
      ],
      "text/plain": [
       "   Column1  Column6 Column8  Column9  Column10  Column11  Column13 Column14  \\\n",
       "0      693        0       P       80        41    132000     3.250        R   \n",
       "1      812        0       P       14        14     35000     3.750        R   \n",
       "2      650        0       P       36        39    340000     4.000        R   \n",
       "3      705       30       P       95         9    279000     3.875        R   \n",
       "4      766        0       P       80        42    344000     4.125        R   \n",
       "\n",
       "  Column18 Column21  Column23  RESULT  \n",
       "0       SF        P         2       1  \n",
       "1       SF        P         2       1  \n",
       "2       SF        C         2       1  \n",
       "3       PU        P         2       1  \n",
       "4       SF        N         1       1  "
      ]
     },
     "execution_count": 6,
     "metadata": {},
     "output_type": "execute_result"
    }
   ],
   "source": [
    "train.head()"
   ]
  },
  {
   "cell_type": "code",
   "execution_count": 7,
   "id": "9caa099d",
   "metadata": {},
   "outputs": [
    {
     "name": "stdout",
     "output_type": "stream",
     "text": [
      "Column1     0\n",
      "Column6     0\n",
      "Column8     0\n",
      "Column9     0\n",
      "Column10    0\n",
      "Column11    0\n",
      "Column13    0\n",
      "Column14    0\n",
      "Column18    0\n",
      "Column21    0\n",
      "Column23    0\n",
      "RESULT      0\n",
      "dtype: int64\n"
     ]
    }
   ],
   "source": [
    "print(train.isnull().sum())"
   ]
  },
  {
   "cell_type": "code",
   "execution_count": 8,
   "id": "6c833f7d",
   "metadata": {},
   "outputs": [],
   "source": [
    "#label encoding\n",
    "train.replace({'LOANSTATUS':{'no':0, 'yes':1}},inplace=True)"
   ]
  },
  {
   "cell_type": "code",
   "execution_count": 9,
   "id": "2da150f4",
   "metadata": {},
   "outputs": [],
   "source": [
    "train.replace({'Column8':{'I':0,'P':1,'S':2}},inplace=True)\n",
    "train.replace({'Column14':{'B':0,'C':1,'R':2}},inplace=True)\n",
    "train.replace({'Column18':{'CO':0,'CP':1,'MH':2,'PU':3,'SF':4}},inplace=True)\n",
    "train.replace({'Column21':{'C':0,'N':1,'P':2}},inplace=True)"
   ]
  },
  {
   "cell_type": "code",
   "execution_count": 10,
   "id": "3c2effe3",
   "metadata": {},
   "outputs": [
    {
     "data": {
      "text/html": [
       "<div>\n",
       "<style scoped>\n",
       "    .dataframe tbody tr th:only-of-type {\n",
       "        vertical-align: middle;\n",
       "    }\n",
       "\n",
       "    .dataframe tbody tr th {\n",
       "        vertical-align: top;\n",
       "    }\n",
       "\n",
       "    .dataframe thead th {\n",
       "        text-align: right;\n",
       "    }\n",
       "</style>\n",
       "<table border=\"1\" class=\"dataframe\">\n",
       "  <thead>\n",
       "    <tr style=\"text-align: right;\">\n",
       "      <th></th>\n",
       "      <th>Column1</th>\n",
       "      <th>Column6</th>\n",
       "      <th>Column8</th>\n",
       "      <th>Column9</th>\n",
       "      <th>Column10</th>\n",
       "      <th>Column11</th>\n",
       "      <th>Column13</th>\n",
       "      <th>Column14</th>\n",
       "      <th>Column18</th>\n",
       "      <th>Column21</th>\n",
       "      <th>Column23</th>\n",
       "      <th>RESULT</th>\n",
       "    </tr>\n",
       "  </thead>\n",
       "  <tbody>\n",
       "    <tr>\n",
       "      <th>0</th>\n",
       "      <td>693</td>\n",
       "      <td>0</td>\n",
       "      <td>1</td>\n",
       "      <td>80</td>\n",
       "      <td>41</td>\n",
       "      <td>132000</td>\n",
       "      <td>3.250</td>\n",
       "      <td>2</td>\n",
       "      <td>4</td>\n",
       "      <td>2</td>\n",
       "      <td>2</td>\n",
       "      <td>1</td>\n",
       "    </tr>\n",
       "    <tr>\n",
       "      <th>1</th>\n",
       "      <td>812</td>\n",
       "      <td>0</td>\n",
       "      <td>1</td>\n",
       "      <td>14</td>\n",
       "      <td>14</td>\n",
       "      <td>35000</td>\n",
       "      <td>3.750</td>\n",
       "      <td>2</td>\n",
       "      <td>4</td>\n",
       "      <td>2</td>\n",
       "      <td>2</td>\n",
       "      <td>1</td>\n",
       "    </tr>\n",
       "    <tr>\n",
       "      <th>2</th>\n",
       "      <td>650</td>\n",
       "      <td>0</td>\n",
       "      <td>1</td>\n",
       "      <td>36</td>\n",
       "      <td>39</td>\n",
       "      <td>340000</td>\n",
       "      <td>4.000</td>\n",
       "      <td>2</td>\n",
       "      <td>4</td>\n",
       "      <td>0</td>\n",
       "      <td>2</td>\n",
       "      <td>1</td>\n",
       "    </tr>\n",
       "    <tr>\n",
       "      <th>3</th>\n",
       "      <td>705</td>\n",
       "      <td>30</td>\n",
       "      <td>1</td>\n",
       "      <td>95</td>\n",
       "      <td>9</td>\n",
       "      <td>279000</td>\n",
       "      <td>3.875</td>\n",
       "      <td>2</td>\n",
       "      <td>3</td>\n",
       "      <td>2</td>\n",
       "      <td>2</td>\n",
       "      <td>1</td>\n",
       "    </tr>\n",
       "    <tr>\n",
       "      <th>4</th>\n",
       "      <td>766</td>\n",
       "      <td>0</td>\n",
       "      <td>1</td>\n",
       "      <td>80</td>\n",
       "      <td>42</td>\n",
       "      <td>344000</td>\n",
       "      <td>4.125</td>\n",
       "      <td>2</td>\n",
       "      <td>4</td>\n",
       "      <td>1</td>\n",
       "      <td>1</td>\n",
       "      <td>1</td>\n",
       "    </tr>\n",
       "  </tbody>\n",
       "</table>\n",
       "</div>"
      ],
      "text/plain": [
       "   Column1  Column6  Column8  Column9  Column10  Column11  Column13  Column14  \\\n",
       "0      693        0        1       80        41    132000     3.250         2   \n",
       "1      812        0        1       14        14     35000     3.750         2   \n",
       "2      650        0        1       36        39    340000     4.000         2   \n",
       "3      705       30        1       95         9    279000     3.875         2   \n",
       "4      766        0        1       80        42    344000     4.125         2   \n",
       "\n",
       "   Column18  Column21  Column23  RESULT  \n",
       "0         4         2         2       1  \n",
       "1         4         2         2       1  \n",
       "2         4         0         2       1  \n",
       "3         3         2         2       1  \n",
       "4         4         1         1       1  "
      ]
     },
     "execution_count": 10,
     "metadata": {},
     "output_type": "execute_result"
    }
   ],
   "source": [
    "train.head()"
   ]
  },
  {
   "cell_type": "code",
   "execution_count": null,
   "id": "683f3a7f",
   "metadata": {},
   "outputs": [],
   "source": []
  },
  {
   "cell_type": "code",
   "execution_count": 11,
   "id": "c41acd9c",
   "metadata": {},
   "outputs": [
    {
     "data": {
      "text/html": [
       "<div>\n",
       "<style scoped>\n",
       "    .dataframe tbody tr th:only-of-type {\n",
       "        vertical-align: middle;\n",
       "    }\n",
       "\n",
       "    .dataframe tbody tr th {\n",
       "        vertical-align: top;\n",
       "    }\n",
       "\n",
       "    .dataframe thead th {\n",
       "        text-align: right;\n",
       "    }\n",
       "</style>\n",
       "<table border=\"1\" class=\"dataframe\">\n",
       "  <thead>\n",
       "    <tr style=\"text-align: right;\">\n",
       "      <th></th>\n",
       "      <th>Column1</th>\n",
       "      <th>Column6</th>\n",
       "      <th>Column8</th>\n",
       "      <th>Column9</th>\n",
       "      <th>Column10</th>\n",
       "      <th>Column11</th>\n",
       "      <th>Column13</th>\n",
       "      <th>Column14</th>\n",
       "      <th>Column18</th>\n",
       "      <th>Column21</th>\n",
       "      <th>Column23</th>\n",
       "      <th>RESULT</th>\n",
       "    </tr>\n",
       "  </thead>\n",
       "  <tbody>\n",
       "    <tr>\n",
       "      <th>count</th>\n",
       "      <td>19909.000000</td>\n",
       "      <td>19909.000000</td>\n",
       "      <td>19909.000000</td>\n",
       "      <td>19909.000000</td>\n",
       "      <td>19909.000000</td>\n",
       "      <td>19909.000000</td>\n",
       "      <td>19909.000000</td>\n",
       "      <td>19909.000000</td>\n",
       "      <td>19909.000000</td>\n",
       "      <td>19909.000000</td>\n",
       "      <td>19909.000000</td>\n",
       "      <td>19909.000000</td>\n",
       "    </tr>\n",
       "    <tr>\n",
       "      <th>mean</th>\n",
       "      <td>754.426189</td>\n",
       "      <td>6.238334</td>\n",
       "      <td>0.995429</td>\n",
       "      <td>71.675624</td>\n",
       "      <td>35.741323</td>\n",
       "      <td>262273.444171</td>\n",
       "      <td>4.527237</td>\n",
       "      <td>1.566980</td>\n",
       "      <td>3.203476</td>\n",
       "      <td>1.408207</td>\n",
       "      <td>1.446934</td>\n",
       "      <td>0.499473</td>\n",
       "    </tr>\n",
       "    <tr>\n",
       "      <th>std</th>\n",
       "      <td>42.885513</td>\n",
       "      <td>11.154139</td>\n",
       "      <td>0.337867</td>\n",
       "      <td>18.824386</td>\n",
       "      <td>9.673725</td>\n",
       "      <td>122972.324343</td>\n",
       "      <td>0.621703</td>\n",
       "      <td>0.631531</td>\n",
       "      <td>1.216447</td>\n",
       "      <td>0.814140</td>\n",
       "      <td>0.515540</td>\n",
       "      <td>0.500012</td>\n",
       "    </tr>\n",
       "    <tr>\n",
       "      <th>min</th>\n",
       "      <td>601.000000</td>\n",
       "      <td>0.000000</td>\n",
       "      <td>0.000000</td>\n",
       "      <td>4.000000</td>\n",
       "      <td>3.000000</td>\n",
       "      <td>19000.000000</td>\n",
       "      <td>2.500000</td>\n",
       "      <td>0.000000</td>\n",
       "      <td>0.000000</td>\n",
       "      <td>0.000000</td>\n",
       "      <td>1.000000</td>\n",
       "      <td>0.000000</td>\n",
       "    </tr>\n",
       "    <tr>\n",
       "      <th>25%</th>\n",
       "      <td>726.000000</td>\n",
       "      <td>0.000000</td>\n",
       "      <td>1.000000</td>\n",
       "      <td>60.000000</td>\n",
       "      <td>29.000000</td>\n",
       "      <td>164000.000000</td>\n",
       "      <td>4.000000</td>\n",
       "      <td>1.000000</td>\n",
       "      <td>3.000000</td>\n",
       "      <td>1.000000</td>\n",
       "      <td>1.000000</td>\n",
       "      <td>0.000000</td>\n",
       "    </tr>\n",
       "    <tr>\n",
       "      <th>50%</th>\n",
       "      <td>763.000000</td>\n",
       "      <td>0.000000</td>\n",
       "      <td>1.000000</td>\n",
       "      <td>76.000000</td>\n",
       "      <td>37.000000</td>\n",
       "      <td>249000.000000</td>\n",
       "      <td>4.500000</td>\n",
       "      <td>2.000000</td>\n",
       "      <td>4.000000</td>\n",
       "      <td>2.000000</td>\n",
       "      <td>1.000000</td>\n",
       "      <td>0.000000</td>\n",
       "    </tr>\n",
       "    <tr>\n",
       "      <th>75%</th>\n",
       "      <td>789.000000</td>\n",
       "      <td>12.000000</td>\n",
       "      <td>1.000000</td>\n",
       "      <td>85.000000</td>\n",
       "      <td>44.000000</td>\n",
       "      <td>350000.000000</td>\n",
       "      <td>4.990000</td>\n",
       "      <td>2.000000</td>\n",
       "      <td>4.000000</td>\n",
       "      <td>2.000000</td>\n",
       "      <td>2.000000</td>\n",
       "      <td>1.000000</td>\n",
       "    </tr>\n",
       "    <tr>\n",
       "      <th>max</th>\n",
       "      <td>827.000000</td>\n",
       "      <td>35.000000</td>\n",
       "      <td>2.000000</td>\n",
       "      <td>105.000000</td>\n",
       "      <td>50.000000</td>\n",
       "      <td>965000.000000</td>\n",
       "      <td>6.750000</td>\n",
       "      <td>2.000000</td>\n",
       "      <td>4.000000</td>\n",
       "      <td>2.000000</td>\n",
       "      <td>4.000000</td>\n",
       "      <td>1.000000</td>\n",
       "    </tr>\n",
       "  </tbody>\n",
       "</table>\n",
       "</div>"
      ],
      "text/plain": [
       "            Column1       Column6       Column8       Column9      Column10  \\\n",
       "count  19909.000000  19909.000000  19909.000000  19909.000000  19909.000000   \n",
       "mean     754.426189      6.238334      0.995429     71.675624     35.741323   \n",
       "std       42.885513     11.154139      0.337867     18.824386      9.673725   \n",
       "min      601.000000      0.000000      0.000000      4.000000      3.000000   \n",
       "25%      726.000000      0.000000      1.000000     60.000000     29.000000   \n",
       "50%      763.000000      0.000000      1.000000     76.000000     37.000000   \n",
       "75%      789.000000     12.000000      1.000000     85.000000     44.000000   \n",
       "max      827.000000     35.000000      2.000000    105.000000     50.000000   \n",
       "\n",
       "            Column11      Column13      Column14      Column18      Column21  \\\n",
       "count   19909.000000  19909.000000  19909.000000  19909.000000  19909.000000   \n",
       "mean   262273.444171      4.527237      1.566980      3.203476      1.408207   \n",
       "std    122972.324343      0.621703      0.631531      1.216447      0.814140   \n",
       "min     19000.000000      2.500000      0.000000      0.000000      0.000000   \n",
       "25%    164000.000000      4.000000      1.000000      3.000000      1.000000   \n",
       "50%    249000.000000      4.500000      2.000000      4.000000      2.000000   \n",
       "75%    350000.000000      4.990000      2.000000      4.000000      2.000000   \n",
       "max    965000.000000      6.750000      2.000000      4.000000      2.000000   \n",
       "\n",
       "           Column23        RESULT  \n",
       "count  19909.000000  19909.000000  \n",
       "mean       1.446934      0.499473  \n",
       "std        0.515540      0.500012  \n",
       "min        1.000000      0.000000  \n",
       "25%        1.000000      0.000000  \n",
       "50%        1.000000      0.000000  \n",
       "75%        2.000000      1.000000  \n",
       "max        4.000000      1.000000  "
      ]
     },
     "execution_count": 11,
     "metadata": {},
     "output_type": "execute_result"
    }
   ],
   "source": [
    "train.describe()\n"
   ]
  },
  {
   "cell_type": "code",
   "execution_count": 94,
   "id": "e76adad2",
   "metadata": {},
   "outputs": [
    {
     "data": {
      "text/plain": [
       "<AxesSubplot:>"
      ]
     },
     "execution_count": 94,
     "metadata": {},
     "output_type": "execute_result"
    },
    {
     "data": {
      "image/png": "[encoded data removed]",
      "text/plain": [
       "<Figure size 432x288 with 1 Axes>"
      ]
     },
     "metadata": {
      "needs_background": "light"
     },
     "output_type": "display_data"
    }
   ],
   "source": [
    "#distribution analysis\n",
    "train['Column13'].hist(bins=50)"
   ]
  },
  {
   "cell_type": "code",
   "execution_count": 97,
   "id": "940cc8f1",
   "metadata": {},
   "outputs": [
    {
     "data": {
      "text/plain": [
       "<AxesSubplot:>"
      ]
     },
     "execution_count": 97,
     "metadata": {},
     "output_type": "execute_result"
    },
    {
     "data": {
      "image/png": "[encoded data removed]",
      "text/plain": [
       "<Figure size 432x288 with 1 Axes>"
      ]
     },
     "metadata": {
      "needs_background": "light"
     },
     "output_type": "display_data"
    }
   ],
   "source": [
    "train.boxplot(column='Column11')"
   ]
  },
  {
   "cell_type": "code",
   "execution_count": 99,
   "id": "fec082e3",
   "metadata": {},
   "outputs": [
    {
     "data": {
      "text/plain": [
       "<AxesSubplot:title={'center':'Column11'}, xlabel='Column13'>"
      ]
     },
     "execution_count": 99,
     "metadata": {},
     "output_type": "execute_result"
    },
    {
     "data": {
      "image/png": "[encoded data removed]",
      "text/plain": [
       "<Figure size 432x288 with 1 Axes>"
      ]
     },
     "metadata": {
      "needs_background": "light"
     },
     "output_type": "display_data"
    }
   ],
   "source": [
    "train.boxplot(column='Column11', by = 'Column13')"
   ]
  },
  {
   "cell_type": "code",
   "execution_count": 15,
   "id": "3036b1e9",
   "metadata": {},
   "outputs": [
    {
     "data": {
      "text/plain": [
       "Column1     int64\n",
       "Column6     int64\n",
       "Column8     int64\n",
       "Column9     int64\n",
       "Column10    int64\n",
       "Column11    int64\n",
       "Column13    int64\n",
       "Column14    int64\n",
       "Column18    int64\n",
       "Column21    int64\n",
       "Column23    int64\n",
       "RESULT      int64\n",
       "dtype: object"
      ]
     },
     "execution_count": 15,
     "metadata": {},
     "output_type": "execute_result"
    }
   ],
   "source": [
    "from sklearn.preprocessing import LabelEncoder\n",
    "var_mod = ['Column1','Column6','Column8','Column9','Column10','Column11','Column13','Column14','Column18','Column21','Column23']\n",
    "le = LabelEncoder()\n",
    "for i in var_mod:\n",
    "    train[i] = le.fit_transform(train[i])\n",
    "train.dtypes"
   ]
  },
  {
   "cell_type": "code",
   "execution_count": 16,
   "id": "efb359c6",
   "metadata": {},
   "outputs": [],
   "source": [
    "#Import models from scikit learn module:\n",
    "from sklearn.linear_model import LogisticRegression\n",
    "from sklearn.ensemble import RandomForestClassifier\n",
    "from sklearn.tree import DecisionTreeClassifier, export_graphviz\n",
    "from sklearn import metrics\n"
   ]
  },
  {
   "cell_type": "code",
   "execution_count": 17,
   "id": "d2491c5b",
   "metadata": {},
   "outputs": [],
   "source": [
    "#splitting the data\n",
    "from sklearn.model_selection import train_test_split"
   ]
  },
  {
   "cell_type": "code",
   "execution_count": 18,
   "id": "fb9de301",
   "metadata": {},
   "outputs": [
    {
     "data": {
      "text/html": [
       "<div>\n",
       "<style scoped>\n",
       "    .dataframe tbody tr th:only-of-type {\n",
       "        vertical-align: middle;\n",
       "    }\n",
       "\n",
       "    .dataframe tbody tr th {\n",
       "        vertical-align: top;\n",
       "    }\n",
       "\n",
       "    .dataframe thead th {\n",
       "        text-align: right;\n",
       "    }\n",
       "</style>\n",
       "<table border=\"1\" class=\"dataframe\">\n",
       "  <thead>\n",
       "    <tr style=\"text-align: right;\">\n",
       "      <th></th>\n",
       "      <th>Column1</th>\n",
       "      <th>Column6</th>\n",
       "      <th>Column8</th>\n",
       "      <th>Column9</th>\n",
       "      <th>Column10</th>\n",
       "      <th>Column11</th>\n",
       "      <th>Column13</th>\n",
       "      <th>Column14</th>\n",
       "      <th>Column18</th>\n",
       "      <th>Column21</th>\n",
       "      <th>Column23</th>\n",
       "      <th>RESULT</th>\n",
       "    </tr>\n",
       "  </thead>\n",
       "  <tbody>\n",
       "    <tr>\n",
       "      <th>0</th>\n",
       "      <td>79</td>\n",
       "      <td>0</td>\n",
       "      <td>1</td>\n",
       "      <td>75</td>\n",
       "      <td>38</td>\n",
       "      <td>109</td>\n",
       "      <td>7</td>\n",
       "      <td>2</td>\n",
       "      <td>4</td>\n",
       "      <td>2</td>\n",
       "      <td>1</td>\n",
       "      <td>1</td>\n",
       "    </tr>\n",
       "    <tr>\n",
       "      <th>1</th>\n",
       "      <td>198</td>\n",
       "      <td>0</td>\n",
       "      <td>1</td>\n",
       "      <td>9</td>\n",
       "      <td>11</td>\n",
       "      <td>12</td>\n",
       "      <td>14</td>\n",
       "      <td>2</td>\n",
       "      <td>4</td>\n",
       "      <td>2</td>\n",
       "      <td>1</td>\n",
       "      <td>1</td>\n",
       "    </tr>\n",
       "    <tr>\n",
       "      <th>2</th>\n",
       "      <td>36</td>\n",
       "      <td>0</td>\n",
       "      <td>1</td>\n",
       "      <td>31</td>\n",
       "      <td>36</td>\n",
       "      <td>317</td>\n",
       "      <td>25</td>\n",
       "      <td>2</td>\n",
       "      <td>4</td>\n",
       "      <td>0</td>\n",
       "      <td>1</td>\n",
       "      <td>1</td>\n",
       "    </tr>\n",
       "    <tr>\n",
       "      <th>3</th>\n",
       "      <td>91</td>\n",
       "      <td>7</td>\n",
       "      <td>1</td>\n",
       "      <td>90</td>\n",
       "      <td>6</td>\n",
       "      <td>256</td>\n",
       "      <td>19</td>\n",
       "      <td>2</td>\n",
       "      <td>3</td>\n",
       "      <td>2</td>\n",
       "      <td>1</td>\n",
       "      <td>1</td>\n",
       "    </tr>\n",
       "    <tr>\n",
       "      <th>4</th>\n",
       "      <td>152</td>\n",
       "      <td>0</td>\n",
       "      <td>1</td>\n",
       "      <td>75</td>\n",
       "      <td>39</td>\n",
       "      <td>321</td>\n",
       "      <td>31</td>\n",
       "      <td>2</td>\n",
       "      <td>4</td>\n",
       "      <td>1</td>\n",
       "      <td>0</td>\n",
       "      <td>1</td>\n",
       "    </tr>\n",
       "    <tr>\n",
       "      <th>...</th>\n",
       "      <td>...</td>\n",
       "      <td>...</td>\n",
       "      <td>...</td>\n",
       "      <td>...</td>\n",
       "      <td>...</td>\n",
       "      <td>...</td>\n",
       "      <td>...</td>\n",
       "      <td>...</td>\n",
       "      <td>...</td>\n",
       "      <td>...</td>\n",
       "      <td>...</td>\n",
       "      <td>...</td>\n",
       "    </tr>\n",
       "    <tr>\n",
       "      <th>19904</th>\n",
       "      <td>189</td>\n",
       "      <td>0</td>\n",
       "      <td>2</td>\n",
       "      <td>75</td>\n",
       "      <td>23</td>\n",
       "      <td>321</td>\n",
       "      <td>71</td>\n",
       "      <td>1</td>\n",
       "      <td>0</td>\n",
       "      <td>2</td>\n",
       "      <td>1</td>\n",
       "      <td>0</td>\n",
       "    </tr>\n",
       "    <tr>\n",
       "      <th>19905</th>\n",
       "      <td>190</td>\n",
       "      <td>0</td>\n",
       "      <td>1</td>\n",
       "      <td>65</td>\n",
       "      <td>31</td>\n",
       "      <td>177</td>\n",
       "      <td>71</td>\n",
       "      <td>1</td>\n",
       "      <td>3</td>\n",
       "      <td>2</td>\n",
       "      <td>1</td>\n",
       "      <td>0</td>\n",
       "    </tr>\n",
       "    <tr>\n",
       "      <th>19906</th>\n",
       "      <td>163</td>\n",
       "      <td>0</td>\n",
       "      <td>0</td>\n",
       "      <td>45</td>\n",
       "      <td>33</td>\n",
       "      <td>315</td>\n",
       "      <td>71</td>\n",
       "      <td>2</td>\n",
       "      <td>3</td>\n",
       "      <td>2</td>\n",
       "      <td>1</td>\n",
       "      <td>0</td>\n",
       "    </tr>\n",
       "    <tr>\n",
       "      <th>19907</th>\n",
       "      <td>183</td>\n",
       "      <td>0</td>\n",
       "      <td>2</td>\n",
       "      <td>62</td>\n",
       "      <td>17</td>\n",
       "      <td>177</td>\n",
       "      <td>71</td>\n",
       "      <td>1</td>\n",
       "      <td>3</td>\n",
       "      <td>2</td>\n",
       "      <td>1</td>\n",
       "      <td>0</td>\n",
       "    </tr>\n",
       "    <tr>\n",
       "      <th>19908</th>\n",
       "      <td>69</td>\n",
       "      <td>0</td>\n",
       "      <td>1</td>\n",
       "      <td>75</td>\n",
       "      <td>37</td>\n",
       "      <td>321</td>\n",
       "      <td>56</td>\n",
       "      <td>1</td>\n",
       "      <td>3</td>\n",
       "      <td>2</td>\n",
       "      <td>0</td>\n",
       "      <td>0</td>\n",
       "    </tr>\n",
       "  </tbody>\n",
       "</table>\n",
       "<p>19909 rows × 12 columns</p>\n",
       "</div>"
      ],
      "text/plain": [
       "       Column1  Column6  Column8  Column9  Column10  Column11  Column13  \\\n",
       "0           79        0        1       75        38       109         7   \n",
       "1          198        0        1        9        11        12        14   \n",
       "2           36        0        1       31        36       317        25   \n",
       "3           91        7        1       90         6       256        19   \n",
       "4          152        0        1       75        39       321        31   \n",
       "...        ...      ...      ...      ...       ...       ...       ...   \n",
       "19904      189        0        2       75        23       321        71   \n",
       "19905      190        0        1       65        31       177        71   \n",
       "19906      163        0        0       45        33       315        71   \n",
       "19907      183        0        2       62        17       177        71   \n",
       "19908       69        0        1       75        37       321        56   \n",
       "\n",
       "       Column14  Column18  Column21  Column23  RESULT  \n",
       "0             2         4         2         1       1  \n",
       "1             2         4         2         1       1  \n",
       "2             2         4         0         1       1  \n",
       "3             2         3         2         1       1  \n",
       "4             2         4         1         0       1  \n",
       "...         ...       ...       ...       ...     ...  \n",
       "19904         1         0         2         1       0  \n",
       "19905         1         3         2         1       0  \n",
       "19906         2         3         2         1       0  \n",
       "19907         1         3         2         1       0  \n",
       "19908         1         3         2         0       0  \n",
       "\n",
       "[19909 rows x 12 columns]"
      ]
     },
     "execution_count": 18,
     "metadata": {},
     "output_type": "execute_result"
    }
   ],
   "source": [
    "train"
   ]
  },
  {
   "cell_type": "code",
   "execution_count": 19,
   "id": "0207c0d0",
   "metadata": {},
   "outputs": [
    {
     "data": {
      "text/plain": [
       "0        1\n",
       "1        1\n",
       "2        1\n",
       "3        1\n",
       "4        1\n",
       "        ..\n",
       "19904    0\n",
       "19905    0\n",
       "19906    0\n",
       "19907    0\n",
       "19908    0\n",
       "Name: RESULT, Length: 19909, dtype: int64"
      ]
     },
     "execution_count": 19,
     "metadata": {},
     "output_type": "execute_result"
    }
   ],
   "source": [
    "#x_train, x_test, y_train, y_test = train_test_split(train['RESULT'],test_size = 0.25)\n",
    "x_train = train.iloc[:,0:11]\n",
    "y_train = train.iloc[:,11]\n",
    "x_train\n",
    "y_train"
   ]
  },
  {
   "cell_type": "code",
   "execution_count": 20,
   "id": "75095eb1",
   "metadata": {},
   "outputs": [
    {
     "data": {
      "text/html": [
       "<div>\n",
       "<style scoped>\n",
       "    .dataframe tbody tr th:only-of-type {\n",
       "        vertical-align: middle;\n",
       "    }\n",
       "\n",
       "    .dataframe tbody tr th {\n",
       "        vertical-align: top;\n",
       "    }\n",
       "\n",
       "    .dataframe thead th {\n",
       "        text-align: right;\n",
       "    }\n",
       "</style>\n",
       "<table border=\"1\" class=\"dataframe\">\n",
       "  <thead>\n",
       "    <tr style=\"text-align: right;\">\n",
       "      <th></th>\n",
       "      <th>Column1</th>\n",
       "      <th>Column6</th>\n",
       "      <th>Column8</th>\n",
       "      <th>Column9</th>\n",
       "      <th>Column10</th>\n",
       "      <th>Column11</th>\n",
       "      <th>Column13</th>\n",
       "      <th>Column14</th>\n",
       "      <th>Column18</th>\n",
       "      <th>Column21</th>\n",
       "      <th>Column23</th>\n",
       "    </tr>\n",
       "  </thead>\n",
       "  <tbody>\n",
       "    <tr>\n",
       "      <th>0</th>\n",
       "      <td>79</td>\n",
       "      <td>0</td>\n",
       "      <td>1</td>\n",
       "      <td>75</td>\n",
       "      <td>38</td>\n",
       "      <td>109</td>\n",
       "      <td>7</td>\n",
       "      <td>2</td>\n",
       "      <td>4</td>\n",
       "      <td>2</td>\n",
       "      <td>1</td>\n",
       "    </tr>\n",
       "    <tr>\n",
       "      <th>1</th>\n",
       "      <td>198</td>\n",
       "      <td>0</td>\n",
       "      <td>1</td>\n",
       "      <td>9</td>\n",
       "      <td>11</td>\n",
       "      <td>12</td>\n",
       "      <td>14</td>\n",
       "      <td>2</td>\n",
       "      <td>4</td>\n",
       "      <td>2</td>\n",
       "      <td>1</td>\n",
       "    </tr>\n",
       "    <tr>\n",
       "      <th>2</th>\n",
       "      <td>36</td>\n",
       "      <td>0</td>\n",
       "      <td>1</td>\n",
       "      <td>31</td>\n",
       "      <td>36</td>\n",
       "      <td>317</td>\n",
       "      <td>25</td>\n",
       "      <td>2</td>\n",
       "      <td>4</td>\n",
       "      <td>0</td>\n",
       "      <td>1</td>\n",
       "    </tr>\n",
       "    <tr>\n",
       "      <th>3</th>\n",
       "      <td>91</td>\n",
       "      <td>7</td>\n",
       "      <td>1</td>\n",
       "      <td>90</td>\n",
       "      <td>6</td>\n",
       "      <td>256</td>\n",
       "      <td>19</td>\n",
       "      <td>2</td>\n",
       "      <td>3</td>\n",
       "      <td>2</td>\n",
       "      <td>1</td>\n",
       "    </tr>\n",
       "    <tr>\n",
       "      <th>4</th>\n",
       "      <td>152</td>\n",
       "      <td>0</td>\n",
       "      <td>1</td>\n",
       "      <td>75</td>\n",
       "      <td>39</td>\n",
       "      <td>321</td>\n",
       "      <td>31</td>\n",
       "      <td>2</td>\n",
       "      <td>4</td>\n",
       "      <td>1</td>\n",
       "      <td>0</td>\n",
       "    </tr>\n",
       "  </tbody>\n",
       "</table>\n",
       "</div>"
      ],
      "text/plain": [
       "   Column1  Column6  Column8  Column9  Column10  Column11  Column13  Column14  \\\n",
       "0       79        0        1       75        38       109         7         2   \n",
       "1      198        0        1        9        11        12        14         2   \n",
       "2       36        0        1       31        36       317        25         2   \n",
       "3       91        7        1       90         6       256        19         2   \n",
       "4      152        0        1       75        39       321        31         2   \n",
       "\n",
       "   Column18  Column21  Column23  \n",
       "0         4         2         1  \n",
       "1         4         2         1  \n",
       "2         4         0         1  \n",
       "3         3         2         1  \n",
       "4         4         1         0  "
      ]
     },
     "execution_count": 20,
     "metadata": {},
     "output_type": "execute_result"
    }
   ],
   "source": [
    "x_train.head()"
   ]
  },
  {
   "cell_type": "code",
   "execution_count": 21,
   "id": "007a3bb4",
   "metadata": {},
   "outputs": [
    {
     "name": "stdout",
     "output_type": "stream",
     "text": [
      "       Column1  Column6  Column8  Column9  Column10  Column11  Column13  \\\n",
      "0           79        0        1       75        38       109         7   \n",
      "1          198        0        1        9        11        12        14   \n",
      "2           36        0        1       31        36       317        25   \n",
      "3           91        7        1       90         6       256        19   \n",
      "4          152        0        1       75        39       321        31   \n",
      "...        ...      ...      ...      ...       ...       ...       ...   \n",
      "19904      189        0        2       75        23       321        71   \n",
      "19905      190        0        1       65        31       177        71   \n",
      "19906      163        0        0       45        33       315        71   \n",
      "19907      183        0        2       62        17       177        71   \n",
      "19908       69        0        1       75        37       321        56   \n",
      "\n",
      "       Column14  Column18  Column21  Column23  \n",
      "0             2         4         2         1  \n",
      "1             2         4         2         1  \n",
      "2             2         4         0         1  \n",
      "3             2         3         2         1  \n",
      "4             2         4         1         0  \n",
      "...         ...       ...       ...       ...  \n",
      "19904         1         0         2         1  \n",
      "19905         1         3         2         1  \n",
      "19906         2         3         2         1  \n",
      "19907         1         3         2         1  \n",
      "19908         1         3         2         0  \n",
      "\n",
      "[19909 rows x 11 columns]\n",
      "0        1\n",
      "1        1\n",
      "2        1\n",
      "3        1\n",
      "4        1\n",
      "        ..\n",
      "19904    0\n",
      "19905    0\n",
      "19906    0\n",
      "19907    0\n",
      "19908    0\n",
      "Name: RESULT, Length: 19909, dtype: int64\n"
     ]
    }
   ],
   "source": [
    "#dropping the loan status \n",
    "features = ['Column1','Column6','Column8','Column9','Column10','Column11','Column13','Column14','Column18','Column21','Column23']\n",
    "x_train = train[features]\n",
    "y_train = train['RESULT']\n",
    "print(x_train)\n",
    "print(y_train)"
   ]
  },
  {
   "cell_type": "code",
   "execution_count": 22,
   "id": "b95a9e89",
   "metadata": {},
   "outputs": [
    {
     "data": {
      "text/html": [
       "<div>\n",
       "<style scoped>\n",
       "    .dataframe tbody tr th:only-of-type {\n",
       "        vertical-align: middle;\n",
       "    }\n",
       "\n",
       "    .dataframe tbody tr th {\n",
       "        vertical-align: top;\n",
       "    }\n",
       "\n",
       "    .dataframe thead th {\n",
       "        text-align: right;\n",
       "    }\n",
       "</style>\n",
       "<table border=\"1\" class=\"dataframe\">\n",
       "  <thead>\n",
       "    <tr style=\"text-align: right;\">\n",
       "      <th></th>\n",
       "      <th>Column1</th>\n",
       "      <th>Column6</th>\n",
       "      <th>Column8</th>\n",
       "      <th>Column9</th>\n",
       "      <th>Column10</th>\n",
       "      <th>Column11</th>\n",
       "      <th>Column13</th>\n",
       "      <th>Column14</th>\n",
       "      <th>Column18</th>\n",
       "      <th>Column21</th>\n",
       "      <th>Column23</th>\n",
       "    </tr>\n",
       "  </thead>\n",
       "  <tbody>\n",
       "    <tr>\n",
       "      <th>0</th>\n",
       "      <td>79</td>\n",
       "      <td>0</td>\n",
       "      <td>1</td>\n",
       "      <td>75</td>\n",
       "      <td>38</td>\n",
       "      <td>109</td>\n",
       "      <td>7</td>\n",
       "      <td>2</td>\n",
       "      <td>4</td>\n",
       "      <td>2</td>\n",
       "      <td>1</td>\n",
       "    </tr>\n",
       "    <tr>\n",
       "      <th>1</th>\n",
       "      <td>198</td>\n",
       "      <td>0</td>\n",
       "      <td>1</td>\n",
       "      <td>9</td>\n",
       "      <td>11</td>\n",
       "      <td>12</td>\n",
       "      <td>14</td>\n",
       "      <td>2</td>\n",
       "      <td>4</td>\n",
       "      <td>2</td>\n",
       "      <td>1</td>\n",
       "    </tr>\n",
       "    <tr>\n",
       "      <th>2</th>\n",
       "      <td>36</td>\n",
       "      <td>0</td>\n",
       "      <td>1</td>\n",
       "      <td>31</td>\n",
       "      <td>36</td>\n",
       "      <td>317</td>\n",
       "      <td>25</td>\n",
       "      <td>2</td>\n",
       "      <td>4</td>\n",
       "      <td>0</td>\n",
       "      <td>1</td>\n",
       "    </tr>\n",
       "    <tr>\n",
       "      <th>3</th>\n",
       "      <td>91</td>\n",
       "      <td>7</td>\n",
       "      <td>1</td>\n",
       "      <td>90</td>\n",
       "      <td>6</td>\n",
       "      <td>256</td>\n",
       "      <td>19</td>\n",
       "      <td>2</td>\n",
       "      <td>3</td>\n",
       "      <td>2</td>\n",
       "      <td>1</td>\n",
       "    </tr>\n",
       "    <tr>\n",
       "      <th>4</th>\n",
       "      <td>152</td>\n",
       "      <td>0</td>\n",
       "      <td>1</td>\n",
       "      <td>75</td>\n",
       "      <td>39</td>\n",
       "      <td>321</td>\n",
       "      <td>31</td>\n",
       "      <td>2</td>\n",
       "      <td>4</td>\n",
       "      <td>1</td>\n",
       "      <td>0</td>\n",
       "    </tr>\n",
       "  </tbody>\n",
       "</table>\n",
       "</div>"
      ],
      "text/plain": [
       "   Column1  Column6  Column8  Column9  Column10  Column11  Column13  Column14  \\\n",
       "0       79        0        1       75        38       109         7         2   \n",
       "1      198        0        1        9        11        12        14         2   \n",
       "2       36        0        1       31        36       317        25         2   \n",
       "3       91        7        1       90         6       256        19         2   \n",
       "4      152        0        1       75        39       321        31         2   \n",
       "\n",
       "   Column18  Column21  Column23  \n",
       "0         4         2         1  \n",
       "1         4         2         1  \n",
       "2         4         0         1  \n",
       "3         3         2         1  \n",
       "4         4         1         0  "
      ]
     },
     "execution_count": 22,
     "metadata": {},
     "output_type": "execute_result"
    }
   ],
   "source": [
    "x_train.head()"
   ]
  },
  {
   "cell_type": "code",
   "execution_count": 23,
   "id": "d3f5150d",
   "metadata": {},
   "outputs": [
    {
     "data": {
      "text/plain": [
       "0    1\n",
       "1    1\n",
       "2    1\n",
       "3    1\n",
       "4    1\n",
       "Name: RESULT, dtype: int64"
      ]
     },
     "execution_count": 23,
     "metadata": {},
     "output_type": "execute_result"
    }
   ],
   "source": [
    "y_train.head()"
   ]
  },
  {
   "cell_type": "code",
   "execution_count": 24,
   "id": "abf8eaf2",
   "metadata": {},
   "outputs": [
    {
     "name": "stdout",
     "output_type": "stream",
     "text": [
      "<class 'pandas.core.frame.DataFrame'>\n",
      "RangeIndex: 19948 entries, 0 to 19947\n",
      "Data columns (total 11 columns):\n",
      " #   Column    Non-Null Count  Dtype  \n",
      "---  ------    --------------  -----  \n",
      " 0   Column1   19948 non-null  int64  \n",
      " 1   Column6   19948 non-null  int64  \n",
      " 2   Column8   19948 non-null  object \n",
      " 3   Column9   19948 non-null  int64  \n",
      " 4   Column10  19948 non-null  int64  \n",
      " 5   Column11  19948 non-null  int64  \n",
      " 6   Column13  19948 non-null  float64\n",
      " 7   Column14  19948 non-null  object \n",
      " 8   Column18  19948 non-null  object \n",
      " 9   Column21  19948 non-null  object \n",
      " 10  Column23  19948 non-null  int64  \n",
      "dtypes: float64(1), int64(6), object(4)\n",
      "memory usage: 1.7+ MB\n"
     ]
    }
   ],
   "source": [
    "new=pd.read_excel(\"C:\\\\Users\\\\PS\\\\Downloads\\\\2020.xlsx\")\n",
    "y_test = new['RESULT']\n",
    "new.drop(['RESULT'],axis=1,inplace=True)\n",
    "new.info()\n",
    "x_test = new"
   ]
  },
  {
   "cell_type": "code",
   "execution_count": 25,
   "id": "e8387e30",
   "metadata": {},
   "outputs": [
    {
     "data": {
      "text/plain": [
       "(19948, 11)"
      ]
     },
     "execution_count": 25,
     "metadata": {},
     "output_type": "execute_result"
    }
   ],
   "source": [
    "new.shape"
   ]
  },
  {
   "cell_type": "code",
   "execution_count": 26,
   "id": "d49c7a3b",
   "metadata": {},
   "outputs": [],
   "source": [
    "#for classification, the mode can be used as baseline.\n",
    "#baseline can be referred to as the predicted outcome without running your dataset through any predictive model\n",
    "import statistics\n"
   ]
  },
  {
   "cell_type": "code",
   "execution_count": 27,
   "id": "f3a53a74",
   "metadata": {},
   "outputs": [
    {
     "data": {
      "text/plain": [
       "0"
      ]
     },
     "execution_count": 27,
     "metadata": {},
     "output_type": "execute_result"
    }
   ],
   "source": [
    "statistics.mode(train['RESULT'])\n"
   ]
  },
  {
   "cell_type": "code",
   "execution_count": 28,
   "id": "ad5414a1",
   "metadata": {},
   "outputs": [
    {
     "data": {
      "text/plain": [
       "0"
      ]
     },
     "execution_count": 28,
     "metadata": {},
     "output_type": "execute_result"
    }
   ],
   "source": [
    "statistics.mode(y_train)"
   ]
  },
  {
   "cell_type": "code",
   "execution_count": 29,
   "id": "86bbc6bb",
   "metadata": {},
   "outputs": [],
   "source": [
    "#get baseline accuracy score\n",
    "from sklearn.metrics import accuracy_score"
   ]
  },
  {
   "cell_type": "code",
   "execution_count": 30,
   "id": "1265ab86",
   "metadata": {},
   "outputs": [],
   "source": [
    "guess = statistics.mode(y_train)\n",
    "y_pred_base = [guess] * len(y_test)\n",
    "\n"
   ]
  },
  {
   "cell_type": "code",
   "execution_count": 31,
   "id": "3368dd2d",
   "metadata": {},
   "outputs": [],
   "source": [
    "#getting the base line accuracy score\n",
    "#score = accuracy_score(y_test, y_pred_base)\n",
    "\n",
    "#print(f'accuracy score {round(score * 100, 0)}%')\n",
    "#print(f'Baseline prediction {guess}')\n"
   ]
  },
  {
   "cell_type": "code",
   "execution_count": 32,
   "id": "dcbf256c",
   "metadata": {},
   "outputs": [],
   "source": [
    "#instantiate the classifier\n",
    "rfc = RandomForestClassifier(n_estimators = 100, random_state=42)"
   ]
  },
  {
   "cell_type": "code",
   "execution_count": 33,
   "id": "6c6756c3",
   "metadata": {},
   "outputs": [
    {
     "data": {
      "text/plain": [
       "RandomForestClassifier(random_state=42)"
      ]
     },
     "execution_count": 33,
     "metadata": {},
     "output_type": "execute_result"
    }
   ],
   "source": [
    "#fit the dataframe\n",
    "\n",
    "rfc.fit(x_train, y_train)"
   ]
  },
  {
   "cell_type": "code",
   "execution_count": 34,
   "id": "9a4c96d6",
   "metadata": {},
   "outputs": [
    {
     "data": {
      "text/html": [
       "<div>\n",
       "<style scoped>\n",
       "    .dataframe tbody tr th:only-of-type {\n",
       "        vertical-align: middle;\n",
       "    }\n",
       "\n",
       "    .dataframe tbody tr th {\n",
       "        vertical-align: top;\n",
       "    }\n",
       "\n",
       "    .dataframe thead th {\n",
       "        text-align: right;\n",
       "    }\n",
       "</style>\n",
       "<table border=\"1\" class=\"dataframe\">\n",
       "  <thead>\n",
       "    <tr style=\"text-align: right;\">\n",
       "      <th></th>\n",
       "      <th>Column1</th>\n",
       "      <th>Column6</th>\n",
       "      <th>Column8</th>\n",
       "      <th>Column9</th>\n",
       "      <th>Column10</th>\n",
       "      <th>Column11</th>\n",
       "      <th>Column13</th>\n",
       "      <th>Column14</th>\n",
       "      <th>Column18</th>\n",
       "      <th>Column21</th>\n",
       "      <th>Column23</th>\n",
       "    </tr>\n",
       "  </thead>\n",
       "  <tbody>\n",
       "    <tr>\n",
       "      <th>0</th>\n",
       "      <td>785</td>\n",
       "      <td>0</td>\n",
       "      <td>P</td>\n",
       "      <td>48</td>\n",
       "      <td>35</td>\n",
       "      <td>167000</td>\n",
       "      <td>3.125</td>\n",
       "      <td>R</td>\n",
       "      <td>SF</td>\n",
       "      <td>N</td>\n",
       "      <td>2</td>\n",
       "    </tr>\n",
       "    <tr>\n",
       "      <th>1</th>\n",
       "      <td>804</td>\n",
       "      <td>0</td>\n",
       "      <td>P</td>\n",
       "      <td>70</td>\n",
       "      <td>35</td>\n",
       "      <td>217000</td>\n",
       "      <td>3.500</td>\n",
       "      <td>R</td>\n",
       "      <td>PU</td>\n",
       "      <td>N</td>\n",
       "      <td>1</td>\n",
       "    </tr>\n",
       "    <tr>\n",
       "      <th>2</th>\n",
       "      <td>701</td>\n",
       "      <td>30</td>\n",
       "      <td>P</td>\n",
       "      <td>95</td>\n",
       "      <td>30</td>\n",
       "      <td>359000</td>\n",
       "      <td>2.875</td>\n",
       "      <td>C</td>\n",
       "      <td>PU</td>\n",
       "      <td>P</td>\n",
       "      <td>1</td>\n",
       "    </tr>\n",
       "    <tr>\n",
       "      <th>3</th>\n",
       "      <td>795</td>\n",
       "      <td>0</td>\n",
       "      <td>I</td>\n",
       "      <td>68</td>\n",
       "      <td>17</td>\n",
       "      <td>409000</td>\n",
       "      <td>3.625</td>\n",
       "      <td>R</td>\n",
       "      <td>SF</td>\n",
       "      <td>C</td>\n",
       "      <td>1</td>\n",
       "    </tr>\n",
       "    <tr>\n",
       "      <th>4</th>\n",
       "      <td>683</td>\n",
       "      <td>30</td>\n",
       "      <td>P</td>\n",
       "      <td>93</td>\n",
       "      <td>32</td>\n",
       "      <td>228000</td>\n",
       "      <td>3.500</td>\n",
       "      <td>R</td>\n",
       "      <td>SF</td>\n",
       "      <td>N</td>\n",
       "      <td>2</td>\n",
       "    </tr>\n",
       "  </tbody>\n",
       "</table>\n",
       "</div>"
      ],
      "text/plain": [
       "   Column1  Column6 Column8  Column9  Column10  Column11  Column13 Column14  \\\n",
       "0      785        0       P       48        35    167000     3.125        R   \n",
       "1      804        0       P       70        35    217000     3.500        R   \n",
       "2      701       30       P       95        30    359000     2.875        C   \n",
       "3      795        0       I       68        17    409000     3.625        R   \n",
       "4      683       30       P       93        32    228000     3.500        R   \n",
       "\n",
       "  Column18 Column21  Column23  \n",
       "0       SF        N         2  \n",
       "1       PU        N         1  \n",
       "2       PU        P         1  \n",
       "3       SF        C         1  \n",
       "4       SF        N         2  "
      ]
     },
     "execution_count": 34,
     "metadata": {},
     "output_type": "execute_result"
    }
   ],
   "source": [
    "x_test.head()"
   ]
  },
  {
   "cell_type": "code",
   "execution_count": 35,
   "id": "8260b169",
   "metadata": {},
   "outputs": [],
   "source": [
    "x_test.replace({'Column1':{'R':0,'B':1,'C':2,'T':3}},inplace=True)\n",
    "x_test.replace({'Column8':{'P':0,'I':1,'S':2}},inplace=True)\n",
    "x_test.replace({'Column14':{'B':0,'C':1,'R':2}},inplace=True)\n",
    "x_test.replace({'Column18':{'CO':0,'PU':1,'MH':2,'SF':3,'CP':4}},inplace=True)\n",
    "x_test.replace({'Column21':{'P':0,'C':1,'N':2,'R':3}},inplace=True)"
   ]
  },
  {
   "cell_type": "code",
   "execution_count": 36,
   "id": "5d2ecae8",
   "metadata": {},
   "outputs": [
    {
     "data": {
      "text/html": [
       "<div>\n",
       "<style scoped>\n",
       "    .dataframe tbody tr th:only-of-type {\n",
       "        vertical-align: middle;\n",
       "    }\n",
       "\n",
       "    .dataframe tbody tr th {\n",
       "        vertical-align: top;\n",
       "    }\n",
       "\n",
       "    .dataframe thead th {\n",
       "        text-align: right;\n",
       "    }\n",
       "</style>\n",
       "<table border=\"1\" class=\"dataframe\">\n",
       "  <thead>\n",
       "    <tr style=\"text-align: right;\">\n",
       "      <th></th>\n",
       "      <th>Column1</th>\n",
       "      <th>Column6</th>\n",
       "      <th>Column8</th>\n",
       "      <th>Column9</th>\n",
       "      <th>Column10</th>\n",
       "      <th>Column11</th>\n",
       "      <th>Column13</th>\n",
       "      <th>Column14</th>\n",
       "      <th>Column18</th>\n",
       "      <th>Column21</th>\n",
       "      <th>Column23</th>\n",
       "    </tr>\n",
       "  </thead>\n",
       "  <tbody>\n",
       "    <tr>\n",
       "      <th>0</th>\n",
       "      <td>785</td>\n",
       "      <td>0</td>\n",
       "      <td>0</td>\n",
       "      <td>48</td>\n",
       "      <td>35</td>\n",
       "      <td>167000</td>\n",
       "      <td>3.125</td>\n",
       "      <td>2</td>\n",
       "      <td>3</td>\n",
       "      <td>2</td>\n",
       "      <td>2</td>\n",
       "    </tr>\n",
       "    <tr>\n",
       "      <th>1</th>\n",
       "      <td>804</td>\n",
       "      <td>0</td>\n",
       "      <td>0</td>\n",
       "      <td>70</td>\n",
       "      <td>35</td>\n",
       "      <td>217000</td>\n",
       "      <td>3.500</td>\n",
       "      <td>2</td>\n",
       "      <td>1</td>\n",
       "      <td>2</td>\n",
       "      <td>1</td>\n",
       "    </tr>\n",
       "    <tr>\n",
       "      <th>2</th>\n",
       "      <td>701</td>\n",
       "      <td>30</td>\n",
       "      <td>0</td>\n",
       "      <td>95</td>\n",
       "      <td>30</td>\n",
       "      <td>359000</td>\n",
       "      <td>2.875</td>\n",
       "      <td>1</td>\n",
       "      <td>1</td>\n",
       "      <td>0</td>\n",
       "      <td>1</td>\n",
       "    </tr>\n",
       "    <tr>\n",
       "      <th>3</th>\n",
       "      <td>795</td>\n",
       "      <td>0</td>\n",
       "      <td>1</td>\n",
       "      <td>68</td>\n",
       "      <td>17</td>\n",
       "      <td>409000</td>\n",
       "      <td>3.625</td>\n",
       "      <td>2</td>\n",
       "      <td>3</td>\n",
       "      <td>1</td>\n",
       "      <td>1</td>\n",
       "    </tr>\n",
       "    <tr>\n",
       "      <th>4</th>\n",
       "      <td>683</td>\n",
       "      <td>30</td>\n",
       "      <td>0</td>\n",
       "      <td>93</td>\n",
       "      <td>32</td>\n",
       "      <td>228000</td>\n",
       "      <td>3.500</td>\n",
       "      <td>2</td>\n",
       "      <td>3</td>\n",
       "      <td>2</td>\n",
       "      <td>2</td>\n",
       "    </tr>\n",
       "  </tbody>\n",
       "</table>\n",
       "</div>"
      ],
      "text/plain": [
       "   Column1  Column6  Column8  Column9  Column10  Column11  Column13  Column14  \\\n",
       "0      785        0        0       48        35    167000     3.125         2   \n",
       "1      804        0        0       70        35    217000     3.500         2   \n",
       "2      701       30        0       95        30    359000     2.875         1   \n",
       "3      795        0        1       68        17    409000     3.625         2   \n",
       "4      683       30        0       93        32    228000     3.500         2   \n",
       "\n",
       "   Column18  Column21  Column23  \n",
       "0         3         2         2  \n",
       "1         1         2         1  \n",
       "2         1         0         1  \n",
       "3         3         1         1  \n",
       "4         3         2         2  "
      ]
     },
     "execution_count": 36,
     "metadata": {},
     "output_type": "execute_result"
    }
   ],
   "source": [
    "x_test.head()"
   ]
  },
  {
   "cell_type": "code",
   "execution_count": 37,
   "id": "71f0e91e",
   "metadata": {},
   "outputs": [
    {
     "data": {
      "text/plain": [
       "Column1     int64\n",
       "Column6     int64\n",
       "Column8     int64\n",
       "Column9     int64\n",
       "Column10    int64\n",
       "Column11    int64\n",
       "Column13    int64\n",
       "Column14    int64\n",
       "Column18    int64\n",
       "Column21    int64\n",
       "Column23    int64\n",
       "dtype: object"
      ]
     },
     "execution_count": 37,
     "metadata": {},
     "output_type": "execute_result"
    }
   ],
   "source": [
    "from sklearn.preprocessing import LabelEncoder\n",
    "var_mod = ['Column1','Column6','Column8','Column9','Column10','Column11','Column13','Column14','Column18','Column21','Column23']\n",
    "le = LabelEncoder()\n",
    "for i in var_mod:\n",
    "    x_test[i] = le.fit_transform(x_test[i])\n",
    "x_test.dtypes"
   ]
  },
  {
   "cell_type": "code",
   "execution_count": 56,
   "id": "31afe408",
   "metadata": {},
   "outputs": [],
   "source": [
    "#instantiate the classifier\n",
    "rfc = RandomForestClassifier(random_state=42)"
   ]
  },
  {
   "cell_type": "code",
   "execution_count": 57,
   "id": "09b2de34",
   "metadata": {},
   "outputs": [
    {
     "data": {
      "text/plain": [
       "RandomForestClassifier(random_state=42)"
      ]
     },
     "execution_count": 57,
     "metadata": {},
     "output_type": "execute_result"
    }
   ],
   "source": [
    "rfc.fit(x_train, y_train)"
   ]
  },
  {
   "cell_type": "code",
   "execution_count": null,
   "id": "f5902c03",
   "metadata": {},
   "outputs": [],
   "source": []
  },
  {
   "cell_type": "code",
   "execution_count": null,
   "id": "867d7e30",
   "metadata": {},
   "outputs": [],
   "source": []
  },
  {
   "cell_type": "code",
   "execution_count": 58,
   "id": "326b442b",
   "metadata": {},
   "outputs": [],
   "source": [
    "y_pred = rfc.predict(x_test)"
   ]
  },
  {
   "cell_type": "code",
   "execution_count": 79,
   "id": "ec1cebca",
   "metadata": {},
   "outputs": [
    {
     "name": "stdout",
     "output_type": "stream",
     "text": [
      "ACCURACY = 0.555\n"
     ]
    }
   ],
   "source": [
    "predict_train_data = rfc.predict(x_test)\n",
    "print(\"ACCURACY = {0:.3f}\".format(metrics.accuracy_score(y_test, predict_train_data)))"
   ]
  },
  {
   "cell_type": "code",
   "execution_count": 80,
   "id": "00375550",
   "metadata": {},
   "outputs": [],
   "source": [
    "#feature importance = how much each feature contributes to decreasing the weighted impurity(information gain/variance for regression model)\n",
    "#to gauge how imp each feature is\n",
    "#in a random forest model the feature importance is the average importance from the many different trees the forest model is using.\n",
    "#each number corresponds to a number in a dataframe"
   ]
  },
  {
   "cell_type": "code",
   "execution_count": 81,
   "id": "d47595e4",
   "metadata": {},
   "outputs": [
    {
     "data": {
      "text/plain": [
       "Index(['Column1', 'Column6', 'Column8', 'Column9', 'Column10', 'Column11',\n",
       "       'Column13', 'Column14', 'Column18', 'Column21', 'Column23'],\n",
       "      dtype='object')"
      ]
     },
     "execution_count": 81,
     "metadata": {},
     "output_type": "execute_result"
    }
   ],
   "source": [
    "x_train.columns"
   ]
  },
  {
   "cell_type": "code",
   "execution_count": 61,
   "id": "b660f80e",
   "metadata": {},
   "outputs": [],
   "source": [
    "\n"
   ]
  },
  {
   "cell_type": "code",
   "execution_count": 62,
   "id": "8a06f43e",
   "metadata": {},
   "outputs": [
    {
     "data": {
      "text/plain": [
       "Column1     0.075653\n",
       "Column6     0.015672\n",
       "Column8     0.012364\n",
       "Column9     0.067210\n",
       "Column10    0.056841\n",
       "Column11    0.106558\n",
       "Column13    0.590029\n",
       "Column14    0.026729\n",
       "Column18    0.018067\n",
       "Column21    0.018772\n",
       "Column23    0.012105\n",
       "dtype: float64"
      ]
     },
     "execution_count": 62,
     "metadata": {},
     "output_type": "execute_result"
    }
   ],
   "source": [
    "rfc_cof = pd.Series(importance, columns)\n",
    "rfc_cof"
   ]
  },
  {
   "cell_type": "code",
   "execution_count": 63,
   "id": "5e8ded1b",
   "metadata": {},
   "outputs": [
    {
     "data": {
      "image/png": "[encoded data removed]",
      "text/plain": [
       "<Figure size 432x288 with 1 Axes>"
      ]
     },
     "metadata": {
      "needs_background": "light"
     },
     "output_type": "display_data"
    }
   ],
   "source": [
    "#create a graph\n",
    "%matplotlib inline\n",
    "\n",
    "rfc_cof.sort_values().plot.barh(color= 'red');"
   ]
  },
  {
   "cell_type": "code",
   "execution_count": 64,
   "id": "ff64764f",
   "metadata": {},
   "outputs": [],
   "source": [
    "#get precision, recall, fiscore \n",
    "\n",
    "from sklearn.metrics import classification_report"
   ]
  },
  {
   "cell_type": "code",
   "execution_count": 65,
   "id": "2ef5b800",
   "metadata": {},
   "outputs": [
    {
     "name": "stdout",
     "output_type": "stream",
     "text": [
      "              precision    recall  f1-score   support\n",
      "\n",
      "           0       0.61      0.29      0.40      9952\n",
      "           1       0.54      0.81      0.65      9996\n",
      "\n",
      "    accuracy                           0.55     19948\n",
      "   macro avg       0.57      0.55      0.52     19948\n",
      "weighted avg       0.57      0.55      0.52     19948\n",
      "\n"
     ]
    }
   ],
   "source": [
    "print(classification_report(y_test, y_pred))"
   ]
  },
  {
   "cell_type": "code",
   "execution_count": 100,
   "id": "21240643",
   "metadata": {},
   "outputs": [],
   "source": [
    "from sklearn.metrics import confusion_matrix"
   ]
  },
  {
   "cell_type": "code",
   "execution_count": 102,
   "id": "d59a6413",
   "metadata": {},
   "outputs": [],
   "source": [
    "#Get the confusion matrix\n",
    "#matrix = confusion_matrix(y_train, y_pred)\n",
    "#print(matrix)\n"
   ]
  },
  {
   "cell_type": "code",
   "execution_count": 76,
   "id": "25345cfa",
   "metadata": {},
   "outputs": [],
   "source": [
    "#import seaborn as sns\n",
    "#sns.heatmap(cf_matrix, annot=True)\n"
   ]
  },
  {
   "cell_type": "code",
   "execution_count": 77,
   "id": "434302b8",
   "metadata": {},
   "outputs": [],
   "source": [
    "#sns.heatmap(cf_matrix/np.sum(cf_matrix), annot=True, \n",
    "            #fmt='.2%', cmap='Blues')"
   ]
  },
  {
   "cell_type": "code",
   "execution_count": 78,
   "id": "b5023249",
   "metadata": {},
   "outputs": [],
   "source": [
    "#labels = ['True Neg','False Pos','False Neg','True Pos']\n",
    "#labels = np.asarray(labels).reshape(2,2)\n",
    "#sns.heatmap(cf_matrix, annot=labels, fmt='', cmap='Blues')"
   ]
  },
  {
   "cell_type": "code",
   "execution_count": 117,
   "id": "f0386684",
   "metadata": {},
   "outputs": [],
   "source": [
    "#group_names = ['True Neg','False Pos','False Neg','True Pos']\n",
    "#group_counts = [\"{0:0.0f}\".format(value) for value in\n",
    "                #cf_matrix.flatten()]\n",
    "#group_percentages = [\"{0:.2%}\".format(value) for value in\n",
    "                     #cf_matrix.flatten()/np.sum(cf_matrix)]\n",
    "#labels = [f\"{v1}\\n{v2}\\n{v3}\" for v1, v2, v3 in zip(group_names,group_counts,group_percentages)]\n",
    "#labels = np.asarray(labels).reshape(2,2)\n",
    "#sns.heatmap(cf_matrix, annot=labels, fmt='', cmap='Blues')"
   ]
  },
  {
   "cell_type": "code",
   "execution_count": 118,
   "id": "ed8119f7",
   "metadata": {},
   "outputs": [],
   "source": [
    "# actual 9965\n",
    "# model 10805\n"
   ]
  },
  {
   "cell_type": "code",
   "execution_count": 48,
   "id": "a9414a12",
   "metadata": {},
   "outputs": [
    {
     "name": "stdout",
     "output_type": "stream",
     "text": [
      "<class 'pandas.core.frame.DataFrame'>\n",
      "RangeIndex: 14559 entries, 0 to 14558\n",
      "Data columns (total 11 columns):\n",
      " #   Column    Non-Null Count  Dtype  \n",
      "---  ------    --------------  -----  \n",
      " 0   Column1   14559 non-null  int64  \n",
      " 1   Column6   14559 non-null  int64  \n",
      " 2   Column8   14559 non-null  object \n",
      " 3   Column9   14559 non-null  int64  \n",
      " 4   Column10  14559 non-null  int64  \n",
      " 5   Column11  14559 non-null  int64  \n",
      " 6   Column13  14559 non-null  float64\n",
      " 7   Column14  14559 non-null  object \n",
      " 8   Column18  14559 non-null  object \n",
      " 9   Column21  14559 non-null  object \n",
      " 10  Column23  14559 non-null  int64  \n",
      "dtypes: float64(1), int64(6), object(4)\n",
      "memory usage: 1.2+ MB\n"
     ]
    }
   ],
   "source": [
    "new=pd.read_excel(\"C:\\\\Users\\\\PS\\\\Dropbox\\\\PC\\\\Downloads\\\\2019.xlsx\")\n",
    "y_test1 = new['RESULT']\n",
    "new.drop(['RESULT'],axis=1,inplace=True)\n",
    "new.info()\n",
    "x_test1 = new"
   ]
  },
  {
   "cell_type": "code",
   "execution_count": 49,
   "id": "edde8361",
   "metadata": {},
   "outputs": [
    {
     "name": "stdout",
     "output_type": "stream",
     "text": [
      "Column1     0\n",
      "Column6     0\n",
      "Column8     0\n",
      "Column9     0\n",
      "Column10    0\n",
      "Column11    0\n",
      "Column13    0\n",
      "Column14    0\n",
      "Column18    0\n",
      "Column21    0\n",
      "Column23    0\n",
      "RESULT      0\n",
      "dtype: int64\n"
     ]
    }
   ],
   "source": [
    "print(train.isnull().sum())\n"
   ]
  },
  {
   "cell_type": "code",
   "execution_count": 71,
   "id": "e98b4218",
   "metadata": {},
   "outputs": [
    {
     "ename": "NameError",
     "evalue": "name 'xtest1' is not defined",
     "output_type": "error",
     "traceback": [
      "\u001b[1;31m---------------------------------------------------------------------------\u001b[0m",
      "\u001b[1;31mNameError\u001b[0m                                 Traceback (most recent call last)",
      "\u001b[1;32m~\\AppData\\Local\\Temp/ipykernel_24760/2859430429.py\u001b[0m in \u001b[0;36m<module>\u001b[1;34m\u001b[0m\n\u001b[1;32m----> 1\u001b[1;33m \u001b[0mxtest1\u001b[0m\u001b[1;33m.\u001b[0m\u001b[0mshape\u001b[0m\u001b[1;33m(\u001b[0m\u001b[1;33m)\u001b[0m\u001b[1;33m\u001b[0m\u001b[1;33m\u001b[0m\u001b[0m\n\u001b[0m",
      "\u001b[1;31mNameError\u001b[0m: name 'xtest1' is not defined"
     ]
    }
   ],
   "source": [
    "xtest1.shape()"
   ]
  },
  {
   "cell_type": "code",
   "execution_count": null,
   "id": "3ac0d822",
   "metadata": {},
   "outputs": [],
   "source": []
  },
  {
   "cell_type": "code",
   "execution_count": 50,
   "id": "8a236d44",
   "metadata": {},
   "outputs": [],
   "source": [
    "x_test1.replace({'Column1':{'R':0,'B':1,'C':2,'T':3}},inplace=True)\n",
    "x_test1.replace({'Column8':{'P':0,'I':1,'S':2}},inplace=True)\n",
    "x_test1.replace({'Column14':{'B':0,'C':1,'R':2}},inplace=True)\n",
    "x_test1.replace({'Column18':{'CO':0,'PU':1,'MH':2,'SF':3,'CP':4}},inplace=True)\n",
    "x_test1.replace({'Column21':{'P':0,'C':1,'N':2,'R':3}},inplace=True)"
   ]
  },
  {
   "cell_type": "code",
   "execution_count": 51,
   "id": "a0bfe6a5",
   "metadata": {},
   "outputs": [
    {
     "data": {
      "text/plain": [
       "Column1     int64\n",
       "Column6     int64\n",
       "Column8     int64\n",
       "Column9     int64\n",
       "Column10    int64\n",
       "Column11    int64\n",
       "Column13    int64\n",
       "Column14    int64\n",
       "Column18    int64\n",
       "Column21    int64\n",
       "Column23    int64\n",
       "dtype: object"
      ]
     },
     "execution_count": 51,
     "metadata": {},
     "output_type": "execute_result"
    }
   ],
   "source": [
    "from sklearn.preprocessing import LabelEncoder\n",
    "var_mod = ['Column1','Column6','Column8','Column9','Column10','Column11','Column13','Column14','Column18','Column21','Column23']\n",
    "le = LabelEncoder()\n",
    "for i in var_mod:\n",
    "    x_test1[i] = le.fit_transform(x_test1[i])\n",
    "x_test1.dtypes"
   ]
  },
  {
   "cell_type": "code",
   "execution_count": 52,
   "id": "736db24d",
   "metadata": {},
   "outputs": [],
   "source": [
    "#instantiate the classifier\n",
    "rfc = RandomForestClassifier(random_state=42)"
   ]
  },
  {
   "cell_type": "code",
   "execution_count": 53,
   "id": "b0bc2c57",
   "metadata": {},
   "outputs": [
    {
     "data": {
      "text/plain": [
       "RandomForestClassifier(random_state=42)"
      ]
     },
     "execution_count": 53,
     "metadata": {},
     "output_type": "execute_result"
    }
   ],
   "source": [
    "rfc.fit(x_train, y_train)"
   ]
  },
  {
   "cell_type": "code",
   "execution_count": null,
   "id": "13d96b11",
   "metadata": {},
   "outputs": [],
   "source": []
  },
  {
   "cell_type": "code",
   "execution_count": null,
   "id": "96273b84",
   "metadata": {},
   "outputs": [],
   "source": []
  },
  {
   "cell_type": "code",
   "execution_count": 72,
   "id": "2a59133a",
   "metadata": {},
   "outputs": [],
   "source": [
    "y_pred1 = rfc.predict(x_test1)"
   ]
  },
  {
   "cell_type": "code",
   "execution_count": 73,
   "id": "6f37d6e6",
   "metadata": {},
   "outputs": [
    {
     "name": "stdout",
     "output_type": "stream",
     "text": [
      "ACCURACY = 0.825\n"
     ]
    }
   ],
   "source": [
    "predict_train_data = rfc.predict(x_test1)\n",
    "print(\"ACCURACY = {0:.3f}\".format(metrics.accuracy_score(y_test1, predict_train_data)))"
   ]
  },
  {
   "cell_type": "code",
   "execution_count": 74,
   "id": "cdb1f44b",
   "metadata": {},
   "outputs": [],
   "source": [
    "from sklearn.metrics import confusion_matrix"
   ]
  },
  {
   "cell_type": "code",
   "execution_count": 75,
   "id": "01333456",
   "metadata": {},
   "outputs": [],
   "source": [
    "#visualize the feature importances by alligning important feature and columns \n",
    "importance = rfc.feature_importances_\n",
    "columns = x_train.columns"
   ]
  },
  {
   "cell_type": "code",
   "execution_count": 76,
   "id": "069b7cbf",
   "metadata": {},
   "outputs": [
    {
     "data": {
      "text/plain": [
       "Column1     0.075653\n",
       "Column6     0.015672\n",
       "Column8     0.012364\n",
       "Column9     0.067210\n",
       "Column10    0.056841\n",
       "Column11    0.106558\n",
       "Column13    0.590029\n",
       "Column14    0.026729\n",
       "Column18    0.018067\n",
       "Column21    0.018772\n",
       "Column23    0.012105\n",
       "dtype: float64"
      ]
     },
     "execution_count": 76,
     "metadata": {},
     "output_type": "execute_result"
    }
   ],
   "source": [
    "rfc_cof = pd.Series(importance, columns)\n",
    "rfc_cof"
   ]
  },
  {
   "cell_type": "code",
   "execution_count": 77,
   "id": "338e6098",
   "metadata": {},
   "outputs": [
    {
     "name": "stdout",
     "output_type": "stream",
     "text": [
      "              precision    recall  f1-score   support\n",
      "\n",
      "           0       0.68      0.83      0.75      4594\n",
      "           1       0.91      0.82      0.87      9965\n",
      "\n",
      "    accuracy                           0.83     14559\n",
      "   macro avg       0.80      0.83      0.81     14559\n",
      "weighted avg       0.84      0.83      0.83     14559\n",
      "\n"
     ]
    }
   ],
   "source": [
    "print(classification_report(y_test1, y_pred1))"
   ]
  },
  {
   "cell_type": "code",
   "execution_count": 110,
   "id": "99c3c45c",
   "metadata": {},
   "outputs": [
    {
     "name": "stdout",
     "output_type": "stream",
     "text": [
      "       Actual  Predicted\n",
      "0           1          1\n",
      "1           1          1\n",
      "2           1          1\n",
      "3           1          1\n",
      "4           1          1\n",
      "...       ...        ...\n",
      "14554       0          0\n",
      "14555       0          0\n",
      "14556       0          0\n",
      "14557       0          0\n",
      "14558       0          0\n",
      "\n",
      "[14559 rows x 2 columns]\n"
     ]
    },
    {
     "ename": "AttributeError",
     "evalue": "module 'seaborn' has no attribute 'show'",
     "output_type": "error",
     "traceback": [
      "\u001b[1;31m---------------------------------------------------------------------------\u001b[0m",
      "\u001b[1;31mAttributeError\u001b[0m                            Traceback (most recent call last)",
      "\u001b[1;32m~\\AppData\\Local\\Temp/ipykernel_24760/1803065912.py\u001b[0m in \u001b[0;36m<module>\u001b[1;34m\u001b[0m\n\u001b[0;32m      2\u001b[0m \u001b[0mprint\u001b[0m\u001b[1;33m(\u001b[0m\u001b[0mrf_compare\u001b[0m\u001b[1;33m)\u001b[0m\u001b[1;33m\u001b[0m\u001b[1;33m\u001b[0m\u001b[0m\n\u001b[0;32m      3\u001b[0m \u001b[1;33m(\u001b[0m\u001b[0mrf_compare\u001b[0m\u001b[1;33m.\u001b[0m\u001b[0mhead\u001b[0m\u001b[1;33m(\u001b[0m\u001b[1;36m10\u001b[0m\u001b[1;33m)\u001b[0m\u001b[1;33m)\u001b[0m\u001b[1;33m.\u001b[0m\u001b[0mplot\u001b[0m\u001b[1;33m(\u001b[0m\u001b[0mkind\u001b[0m\u001b[1;33m=\u001b[0m\u001b[1;34m'bar'\u001b[0m\u001b[1;33m,\u001b[0m \u001b[0mfigsize\u001b[0m\u001b[1;33m=\u001b[0m\u001b[1;33m(\u001b[0m\u001b[1;36m15\u001b[0m\u001b[1;33m,\u001b[0m\u001b[1;36m5\u001b[0m\u001b[1;33m)\u001b[0m\u001b[1;33m)\u001b[0m\u001b[1;33m\u001b[0m\u001b[1;33m\u001b[0m\u001b[0m\n\u001b[1;32m----> 4\u001b[1;33m \u001b[0mplt\u001b[0m\u001b[1;33m.\u001b[0m\u001b[0mshow\u001b[0m\u001b[1;33m(\u001b[0m\u001b[1;33m)\u001b[0m\u001b[1;33m\u001b[0m\u001b[1;33m\u001b[0m\u001b[0m\n\u001b[0m",
      "\u001b[1;31mAttributeError\u001b[0m: module 'seaborn' has no attribute 'show'"
     ]
    },
    {
     "data": {
      "image/png": "[encoded data removed]",
      "text/plain": [
       "<Figure size 1080x360 with 1 Axes>"
      ]
     },
     "metadata": {
      "needs_background": "light"
     },
     "output_type": "display_data"
    }
   ],
   "source": [
    "rf_compare = pd.DataFrame({'Actual': y_test1, 'Predicted': y_pred1})\n",
    "print(rf_compare)\n",
    "(rf_compare.head(10)).plot(kind='bar', figsize=(15,5))\n",
    "plt.show()"
   ]
  },
  {
   "cell_type": "code",
   "execution_count": 109,
   "id": "ab73cf87",
   "metadata": {},
   "outputs": [
    {
     "data": {
      "text/plain": [
       "array([1, 1, 1, ..., 0, 0, 0], dtype=int64)"
      ]
     },
     "execution_count": 109,
     "metadata": {},
     "output_type": "execute_result"
    }
   ],
   "source": [
    "y_pred1"
   ]
  },
  {
   "cell_type": "code",
   "execution_count": 111,
   "id": "25b091a8",
   "metadata": {},
   "outputs": [
    {
     "name": "stdout",
     "output_type": "stream",
     "text": [
      "       Actual  Predicted\n",
      "0           1          1\n",
      "1           1          1\n",
      "2           1          1\n",
      "3           1          1\n",
      "4           1          1\n",
      "...       ...        ...\n",
      "19943       0          1\n",
      "19944       0          1\n",
      "19945       0          1\n",
      "19946       0          0\n",
      "19947       0          1\n",
      "\n",
      "[19948 rows x 2 columns]\n"
     ]
    },
    {
     "ename": "AttributeError",
     "evalue": "module 'seaborn' has no attribute 'show'",
     "output_type": "error",
     "traceback": [
      "\u001b[1;31m---------------------------------------------------------------------------\u001b[0m",
      "\u001b[1;31mAttributeError\u001b[0m                            Traceback (most recent call last)",
      "\u001b[1;32m~\\AppData\\Local\\Temp/ipykernel_24760/4016566208.py\u001b[0m in \u001b[0;36m<module>\u001b[1;34m\u001b[0m\n\u001b[0;32m      2\u001b[0m \u001b[0mprint\u001b[0m\u001b[1;33m(\u001b[0m\u001b[0mrf_compare\u001b[0m\u001b[1;33m)\u001b[0m\u001b[1;33m\u001b[0m\u001b[1;33m\u001b[0m\u001b[0m\n\u001b[0;32m      3\u001b[0m \u001b[1;33m(\u001b[0m\u001b[0mrf_compare\u001b[0m\u001b[1;33m.\u001b[0m\u001b[0mhead\u001b[0m\u001b[1;33m(\u001b[0m\u001b[1;36m15\u001b[0m\u001b[1;33m)\u001b[0m\u001b[1;33m)\u001b[0m\u001b[1;33m.\u001b[0m\u001b[0mplot\u001b[0m\u001b[1;33m(\u001b[0m\u001b[0mkind\u001b[0m\u001b[1;33m=\u001b[0m\u001b[1;34m'bar'\u001b[0m\u001b[1;33m,\u001b[0m \u001b[0mfigsize\u001b[0m\u001b[1;33m=\u001b[0m\u001b[1;33m(\u001b[0m\u001b[1;36m15\u001b[0m\u001b[1;33m,\u001b[0m\u001b[1;36m5\u001b[0m\u001b[1;33m)\u001b[0m\u001b[1;33m)\u001b[0m\u001b[1;33m\u001b[0m\u001b[1;33m\u001b[0m\u001b[0m\n\u001b[1;32m----> 4\u001b[1;33m \u001b[0mplt\u001b[0m\u001b[1;33m.\u001b[0m\u001b[0mshow\u001b[0m\u001b[1;33m(\u001b[0m\u001b[1;33m)\u001b[0m\u001b[1;33m\u001b[0m\u001b[1;33m\u001b[0m\u001b[0m\n\u001b[0m",
      "\u001b[1;31mAttributeError\u001b[0m: module 'seaborn' has no attribute 'show'"
     ]
    },
    {
     "data": {
      "image/png": "[encoded data removed]",
      "text/plain": [
       "<Figure size 1080x360 with 1 Axes>"
      ]
     },
     "metadata": {
      "needs_background": "light"
     },
     "output_type": "display_data"
    }
   ],
   "source": [
    "rf_compare = pd.DataFrame({'Actual': y_test, 'Predicted': y_pred})\n",
    "print(rf_compare)\n",
    "(rf_compare.head(15)).plot(kind='bar', figsize=(15,5))\n",
    "plt.show()"
   ]
  },
  {
   "cell_type": "code",
   "execution_count": null,
   "id": "e3cf163b",
   "metadata": {},
   "outputs": [],
   "source": []
  },
  {
   "cell_type": "code",
   "execution_count": null,
   "id": "eba48551",
   "metadata": {},
   "outputs": [],
   "source": []
  }
 ],
 "metadata": {
  "kernelspec": {
   "display_name": "Python 3 (ipykernel)",
   "language": "python",
   "name": "python3"
  },
  "language_info": {
   "codemirror_mode": {
    "name": "ipython",
    "version": 3
   },
   "file_extension": ".py",
   "mimetype": "text/x-python",
   "name": "python",
   "nbconvert_exporter": "python",
   "pygments_lexer": "ipython3",
   "version": "3.9.7"
  }
 },
 "nbformat": 4,
 "nbformat_minor": 5
}
